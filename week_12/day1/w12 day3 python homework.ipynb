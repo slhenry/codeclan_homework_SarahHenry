{
 "cells": [
  {
   "cell_type": "markdown",
   "id": "bf85f4ee",
   "metadata": {},
   "source": [
    "# Question 1\n",
    "Create a list with the following data, and assign it to a variable named shopping: 'spam' 'ham' 'eggs' 'ham'\n",
    "\n",
    "Then do the following:\n",
    "Extract the second element of the list.\n",
    "\n",
    "Extract the first to third (inclusive) element of the list.\n",
    "\n",
    "Extract only the last element of the list."
   ]
  },
  {
   "cell_type": "code",
   "execution_count": 4,
   "id": "59c0a056",
   "metadata": {},
   "outputs": [
    {
     "data": {
      "text/plain": [
       "'ham'"
      ]
     },
     "execution_count": 4,
     "metadata": {},
     "output_type": "execute_result"
    }
   ],
   "source": [
    "shopping = (\"spam\", \"ham\", \"eggs\", \"ham\")\n",
    "\n",
    "shopping[1]"
   ]
  },
  {
   "cell_type": "code",
   "execution_count": 7,
   "id": "34f458fa",
   "metadata": {},
   "outputs": [
    {
     "data": {
      "text/plain": [
       "('spam', 'ham', 'eggs')"
      ]
     },
     "execution_count": 7,
     "metadata": {},
     "output_type": "execute_result"
    }
   ],
   "source": [
    "shopping[0:3]"
   ]
  },
  {
   "cell_type": "code",
   "execution_count": 8,
   "id": "f011027e",
   "metadata": {},
   "outputs": [
    {
     "data": {
      "text/plain": [
       "'ham'"
      ]
     },
     "execution_count": 8,
     "metadata": {},
     "output_type": "execute_result"
    }
   ],
   "source": [
    "shopping[-1]"
   ]
  },
  {
   "cell_type": "markdown",
   "id": "94f3246b",
   "metadata": {},
   "source": [
    "# Question 2\n",
    "Set up a list with the following elements:\n",
    "\n",
    "stops = [\"Croy\", \"Cumbernauld\", \"Falkirk High\", \"Linlithgow\", \"Livingston\", \"Haymarket\"]\n",
    "\n",
    "Perform the following:\n",
    "\n",
    "Append Edinburgh Waverley to the end of the list\n",
    "Add \"Queen Street\" to the start of the list\n",
    "Find out what index \"Croy\" is at in the list\n",
    "Add \"Polmont\" at the appropriate point (between \"Falkirk High\" and \"Linlithgow\")\n",
    "Remove \"Haymarket\" from the list of stops\n",
    "Remove all items from stops\n",
    "Hint: Some of these methods will change the original object stops. If you make any unwanted changes and want to go back to the original object you can re-run the code chunks where we created the object stops and then appended \"Edinburgh Waverley\".\n",
    "\n"
   ]
  },
  {
   "cell_type": "code",
   "execution_count": 34,
   "id": "8515ff29",
   "metadata": {},
   "outputs": [],
   "source": [
    "stops = [\"Croy\", \"Cumbernauld\", \"Falkirk High\", \"Linlithgow\", \"Livingston\", \"Haymarket\"]"
   ]
  },
  {
   "cell_type": "code",
   "execution_count": 35,
   "id": "9df5775c",
   "metadata": {},
   "outputs": [
    {
     "data": {
      "text/plain": [
       "['Croy',\n",
       " 'Cumbernauld',\n",
       " 'Falkirk High',\n",
       " 'Linlithgow',\n",
       " 'Livingston',\n",
       " 'Haymarket',\n",
       " 'Edinburgh Waverley']"
      ]
     },
     "execution_count": 35,
     "metadata": {},
     "output_type": "execute_result"
    }
   ],
   "source": [
    "stops.append(\"Edinburgh Waverley\")\n",
    "stops"
   ]
  },
  {
   "cell_type": "code",
   "execution_count": 36,
   "id": "acefe85f",
   "metadata": {},
   "outputs": [],
   "source": [
    "stops.insert(0, \"Queen Street\")"
   ]
  },
  {
   "cell_type": "code",
   "execution_count": 37,
   "id": "889158c4",
   "metadata": {},
   "outputs": [
    {
     "data": {
      "text/plain": [
       "1"
      ]
     },
     "execution_count": 37,
     "metadata": {},
     "output_type": "execute_result"
    }
   ],
   "source": [
    "stops.index(\"Croy\")"
   ]
  },
  {
   "cell_type": "code",
   "execution_count": 38,
   "id": "d78a41bd",
   "metadata": {},
   "outputs": [
    {
     "data": {
      "text/plain": [
       "['Queen Street',\n",
       " 'Croy',\n",
       " 'Cumbernauld',\n",
       " 'Falkirk High',\n",
       " 'Linlithgow',\n",
       " 'Livingston',\n",
       " 'Haymarket',\n",
       " 'Edinburgh Waverley']"
      ]
     },
     "execution_count": 38,
     "metadata": {},
     "output_type": "execute_result"
    }
   ],
   "source": [
    "stops"
   ]
  },
  {
   "cell_type": "code",
   "execution_count": 39,
   "id": "8a065cc1",
   "metadata": {},
   "outputs": [
    {
     "data": {
      "text/plain": [
       "['Queen Street',\n",
       " 'Croy',\n",
       " 'Cumbernauld',\n",
       " 'Falkirk High',\n",
       " 'Polmont',\n",
       " 'Linlithgow',\n",
       " 'Livingston',\n",
       " 'Haymarket',\n",
       " 'Edinburgh Waverley']"
      ]
     },
     "execution_count": 39,
     "metadata": {},
     "output_type": "execute_result"
    }
   ],
   "source": [
    "stops.insert(4, \"Polmont\")\n",
    "stops"
   ]
  },
  {
   "cell_type": "code",
   "execution_count": 40,
   "id": "d7e61d6e",
   "metadata": {},
   "outputs": [
    {
     "data": {
      "text/plain": [
       "['Queen Street',\n",
       " 'Croy',\n",
       " 'Cumbernauld',\n",
       " 'Falkirk High',\n",
       " 'Polmont',\n",
       " 'Linlithgow',\n",
       " 'Livingston',\n",
       " 'Edinburgh Waverley']"
      ]
     },
     "execution_count": 40,
     "metadata": {},
     "output_type": "execute_result"
    }
   ],
   "source": [
    "stops.remove(\"Haymarket\")\n",
    "stops"
   ]
  },
  {
   "cell_type": "code",
   "execution_count": 44,
   "id": "475897a1",
   "metadata": {},
   "outputs": [
    {
     "data": {
      "text/plain": [
       "[]"
      ]
     },
     "execution_count": 44,
     "metadata": {},
     "output_type": "execute_result"
    }
   ],
   "source": [
    "stops.clear()\n",
    "stops"
   ]
  },
  {
   "cell_type": "markdown",
   "id": "c647d838",
   "metadata": {},
   "source": [
    "# Question 3\n",
    "Set up the following dictionary:\n",
    "\n",
    "person = {\"name\": \"Steph\", \"age\": 31, \"Instructor\" : True}\n",
    "\n",
    "Do the following:\n",
    "\n",
    "Return the keys, values and items from this dictionary\n",
    "\n",
    "Take out only the name from it\n",
    "\n",
    "Add a new key:value pair, which adds the email \"steph@codeclan.com\" to the dictionary\n",
    "\n",
    "Delete the job description from the dictionary (Hint: look up the del function)"
   ]
  },
  {
   "cell_type": "code",
   "execution_count": 45,
   "id": "81ceb65e",
   "metadata": {},
   "outputs": [
    {
     "data": {
      "text/plain": [
       "dict_keys(['name', 'age', 'Instructor'])"
      ]
     },
     "execution_count": 45,
     "metadata": {},
     "output_type": "execute_result"
    }
   ],
   "source": [
    "person = {\"name\": \"Steph\", \"age\": 31, \"Instructor\" : True}\n",
    "person.keys()"
   ]
  },
  {
   "cell_type": "code",
   "execution_count": 46,
   "id": "e7fb56d6",
   "metadata": {},
   "outputs": [
    {
     "data": {
      "text/plain": [
       "dict_values(['Steph', 31, True])"
      ]
     },
     "execution_count": 46,
     "metadata": {},
     "output_type": "execute_result"
    }
   ],
   "source": [
    "person.values()"
   ]
  },
  {
   "cell_type": "code",
   "execution_count": 47,
   "id": "7c3974c5",
   "metadata": {},
   "outputs": [
    {
     "data": {
      "text/plain": [
       "dict_items([('name', 'Steph'), ('age', 31), ('Instructor', True)])"
      ]
     },
     "execution_count": 47,
     "metadata": {},
     "output_type": "execute_result"
    }
   ],
   "source": [
    "person.items()"
   ]
  },
  {
   "cell_type": "code",
   "execution_count": 49,
   "id": "99a21313",
   "metadata": {},
   "outputs": [
    {
     "data": {
      "text/plain": [
       "'Steph'"
      ]
     },
     "execution_count": 49,
     "metadata": {},
     "output_type": "execute_result"
    }
   ],
   "source": [
    "person[\"name\"]"
   ]
  },
  {
   "cell_type": "code",
   "execution_count": 52,
   "id": "8b73cedf",
   "metadata": {},
   "outputs": [
    {
     "data": {
      "text/plain": [
       "{'name': 'Steph', 'age': 31, 'Instructor': True, 'email': 'steph@codeclan.com'}"
      ]
     },
     "execution_count": 52,
     "metadata": {},
     "output_type": "execute_result"
    }
   ],
   "source": [
    "person.update({\"email\":\"steph@codeclan.com\"})\n",
    "person"
   ]
  },
  {
   "cell_type": "code",
   "execution_count": 55,
   "id": "10752e50",
   "metadata": {},
   "outputs": [
    {
     "data": {
      "text/plain": [
       "True"
      ]
     },
     "execution_count": 55,
     "metadata": {},
     "output_type": "execute_result"
    }
   ],
   "source": [
    "person.pop(\"Instructor\")"
   ]
  },
  {
   "cell_type": "code",
   "execution_count": 56,
   "id": "c6d3f56b",
   "metadata": {},
   "outputs": [
    {
     "data": {
      "text/plain": [
       "{'name': 'Steph', 'age': 31, 'email': 'steph@codeclan.com'}"
      ]
     },
     "execution_count": 56,
     "metadata": {},
     "output_type": "execute_result"
    }
   ],
   "source": [
    "person"
   ]
  },
  {
   "cell_type": "markdown",
   "id": "bb6d4ee5",
   "metadata": {},
   "source": [
    "# Question 4\n",
    "For the following list of numbers:\n",
    "\n",
    "numbers = [1, 6, 2, 2, 7, 1, 6, 13, 99, 7]\n",
    "\n",
    "Print out a list of the even integers:\n",
    "\n",
    "Print the difference between the largest and smallest value:\n",
    "\n",
    "Print True if the list contains a 2 next to a 2 somewhere.\n",
    "\n",
    "Print the sum of the numbers, BUT ignore any section of numbers starting with a 6 and extending to the next 7. So [11, 6, 4, 99, 7, 11] would have sum of 22"
   ]
  },
  {
   "cell_type": "code",
   "execution_count": 58,
   "id": "daeae040",
   "metadata": {},
   "outputs": [
    {
     "name": "stdout",
     "output_type": "stream",
     "text": [
      "[6, 2, 2, 6]\n"
     ]
    }
   ],
   "source": [
    "numbers = [1, 6, 2, 2, 7, 1, 6, 13, 99, 7]\n",
    "\n",
    "even = []\n",
    "for number in numbers:\n",
    "    if number % 2 == 0:\n",
    "        even.append(number)\n",
    "print(even)"
   ]
  },
  {
   "cell_type": "code",
   "execution_count": 62,
   "id": "d91e7531",
   "metadata": {},
   "outputs": [
    {
     "data": {
      "text/plain": [
       "[1, 1, 2, 2, 6, 6, 7, 7, 13, 99]"
      ]
     },
     "execution_count": 62,
     "metadata": {},
     "output_type": "execute_result"
    }
   ],
   "source": [
    "numbers.sort()\n",
    "numbers"
   ]
  },
  {
   "cell_type": "code",
   "execution_count": 82,
   "id": "91368d0c",
   "metadata": {},
   "outputs": [
    {
     "name": "stdout",
     "output_type": "stream",
     "text": [
      "98\n"
     ]
    }
   ],
   "source": [
    "a = numbers[0]\n",
    "b = numbers[-1]\n",
    "\n",
    "diff = (b - a)\n",
    "print(diff)"
   ]
  },
  {
   "cell_type": "code",
   "execution_count": 88,
   "id": "f243ce23",
   "metadata": {},
   "outputs": [
    {
     "ename": "SyntaxError",
     "evalue": "'return' outside function (305619526.py, line 2)",
     "output_type": "error",
     "traceback": [
      "\u001b[1;36m  Cell \u001b[1;32mIn[88], line 2\u001b[1;36m\u001b[0m\n\u001b[1;33m    return TRUE\u001b[0m\n\u001b[1;37m    ^\u001b[0m\n\u001b[1;31mSyntaxError\u001b[0m\u001b[1;31m:\u001b[0m 'return' outside function\n"
     ]
    }
   ],
   "source": [
    "def 2_2(x, y):\n",
    "    return TRUE\n",
    "\n",
    "2_2()"
   ]
  },
  {
   "cell_type": "code",
   "execution_count": 89,
   "id": "345d132d",
   "metadata": {},
   "outputs": [
    {
     "ename": "SyntaxError",
     "evalue": "'return' outside function (3806194366.py, line 2)",
     "output_type": "error",
     "traceback": [
      "\u001b[1;36m  Cell \u001b[1;32mIn[89], line 2\u001b[1;36m\u001b[0m\n\u001b[1;33m    return True\u001b[0m\n\u001b[1;37m    ^\u001b[0m\n\u001b[1;31mSyntaxError\u001b[0m\u001b[1;31m:\u001b[0m 'return' outside function\n"
     ]
    }
   ],
   "source": [
    "twos = numbers(\"2, 2\")\n",
    "if (2, 2) in numbers:\n",
    "    return True"
   ]
  },
  {
   "cell_type": "markdown",
   "id": "d7e6db31",
   "metadata": {},
   "source": [
    "# Question 5\n",
    "Write a conditional that takes in two inputs :\n",
    "\n",
    "python_is_fun = True\n",
    "python_is_weird = True\n",
    "We want to print \"Woo Python!\" if either python_is_fun is true OR python_is_weird is true OR both python_is_fun and python_is_weird are true. Otherwise, print \"Python is not for me!\". Make sure you test all the combinations.\n",
    "\n"
   ]
  },
  {
   "cell_type": "code",
   "execution_count": 97,
   "id": "7f0312bf",
   "metadata": {},
   "outputs": [
    {
     "name": "stdout",
     "output_type": "stream",
     "text": [
      "Python is not for me!\n"
     ]
    }
   ],
   "source": [
    "\n",
    "def python(a, b):\n",
    "    if a == \"Python_is_fun\":\n",
    "        print(\"Python is fun\")\n",
    "    elif b == \"Python_is_weird\":\n",
    "        print(\"Python is weird\")\n",
    "    else:\n",
    "        print(\"Python is not for me!\")\n",
    "python(\"Python_is_weird\", \"Python is fun\")"
   ]
  },
  {
   "cell_type": "markdown",
   "id": "18d64f2c",
   "metadata": {},
   "source": [
    "# Question 6\n",
    "We have a list of chickens and the farmer would like to go through all the chickens, collecting the eggs and getting the total number of eggs collected.\n",
    "\n",
    "chickens = [\n",
    "  { \"name\": \"Margaret\", \"age\": 2, \"eggs\": 0 },\n",
    "  { \"name\": \"Hetty\", \"age\": 1, \"eggs\": 2 },\n",
    "  { \"name\": \"Henrietta\", \"age\": 3, \"eggs\": 1 },\n",
    "  { \"name\": \"Audrey\", \"age\": 2, \"eggs\": 0 },\n",
    "  { \"name\": \"Mabel\", \"age\": 5, \"eggs\": 1 },\n",
    "]\n",
    "\n",
    "To write this as a loop, we'd do something like this:\n",
    "\n",
    "total_eggs = 0\n",
    "\n",
    "for chicken in chickens:\n",
    "    total_eggs += chicken[\"eggs\"]\n",
    "    chicken[\"eggs\"] = 0 # eggs have been collected\n",
    "\n",
    "print(f\"{total_eggs} eggs collected\")\n",
    "\n",
    "Instead, we want to define a function which passes in a list, so that if we wanted to count eggs of a different list of chickens from another farm, we can use the same function, just pass in a different list.\n",
    "\n",
    "We also want to return the string at the end, instead of using print.\n",
    "\n"
   ]
  },
  {
   "cell_type": "code",
   "execution_count": 99,
   "id": "4352c1d1",
   "metadata": {},
   "outputs": [
    {
     "data": {
      "text/plain": [
       "[{'name': 'Margaret', 'age': 2, 'eggs': 0},\n",
       " {'name': 'Hetty', 'age': 1, 'eggs': 2},\n",
       " {'name': 'Henrietta', 'age': 3, 'eggs': 1},\n",
       " {'name': 'Audrey', 'age': 2, 'eggs': 0},\n",
       " {'name': 'Mabel', 'age': 5, 'eggs': 1}]"
      ]
     },
     "execution_count": 99,
     "metadata": {},
     "output_type": "execute_result"
    }
   ],
   "source": [
    "chickens = [ { \"name\": \"Margaret\", \"age\": 2, \"eggs\": 0 }, \n",
    "            { \"name\": \"Hetty\", \"age\": 1, \"eggs\": 2 }, \n",
    "            { \"name\": \"Henrietta\", \"age\": 3, \"eggs\": 1 }, \n",
    "            { \"name\": \"Audrey\", \"age\": 2, \"eggs\": 0 }, \n",
    "            { \"name\": \"Mabel\", \"age\": 5, \"eggs\": 1 }, ]\n",
    "chickens"
   ]
  },
  {
   "cell_type": "code",
   "execution_count": 100,
   "id": "4f2f4499",
   "metadata": {},
   "outputs": [],
   "source": [
    "import pandas as pd"
   ]
  },
  {
   "cell_type": "code",
   "execution_count": 101,
   "id": "40ad205f",
   "metadata": {},
   "outputs": [
    {
     "data": {
      "text/html": [
       "<div>\n",
       "<style scoped>\n",
       "    .dataframe tbody tr th:only-of-type {\n",
       "        vertical-align: middle;\n",
       "    }\n",
       "\n",
       "    .dataframe tbody tr th {\n",
       "        vertical-align: top;\n",
       "    }\n",
       "\n",
       "    .dataframe thead th {\n",
       "        text-align: right;\n",
       "    }\n",
       "</style>\n",
       "<table border=\"1\" class=\"dataframe\">\n",
       "  <thead>\n",
       "    <tr style=\"text-align: right;\">\n",
       "      <th></th>\n",
       "      <th>name</th>\n",
       "      <th>age</th>\n",
       "      <th>eggs</th>\n",
       "    </tr>\n",
       "  </thead>\n",
       "  <tbody>\n",
       "    <tr>\n",
       "      <th>0</th>\n",
       "      <td>Margaret</td>\n",
       "      <td>2</td>\n",
       "      <td>0</td>\n",
       "    </tr>\n",
       "    <tr>\n",
       "      <th>1</th>\n",
       "      <td>Hetty</td>\n",
       "      <td>1</td>\n",
       "      <td>2</td>\n",
       "    </tr>\n",
       "    <tr>\n",
       "      <th>2</th>\n",
       "      <td>Henrietta</td>\n",
       "      <td>3</td>\n",
       "      <td>1</td>\n",
       "    </tr>\n",
       "    <tr>\n",
       "      <th>3</th>\n",
       "      <td>Audrey</td>\n",
       "      <td>2</td>\n",
       "      <td>0</td>\n",
       "    </tr>\n",
       "    <tr>\n",
       "      <th>4</th>\n",
       "      <td>Mabel</td>\n",
       "      <td>5</td>\n",
       "      <td>1</td>\n",
       "    </tr>\n",
       "  </tbody>\n",
       "</table>\n",
       "</div>"
      ],
      "text/plain": [
       "        name  age  eggs\n",
       "0   Margaret    2     0\n",
       "1      Hetty    1     2\n",
       "2  Henrietta    3     1\n",
       "3     Audrey    2     0\n",
       "4      Mabel    5     1"
      ]
     },
     "execution_count": 101,
     "metadata": {},
     "output_type": "execute_result"
    }
   ],
   "source": [
    "chickens_df = pd.DataFrame(chickens)\n",
    "chickens_df"
   ]
  },
  {
   "cell_type": "code",
   "execution_count": 115,
   "id": "8e4643a5",
   "metadata": {},
   "outputs": [
    {
     "name": "stdout",
     "output_type": "stream",
     "text": [
      "4 eggs collected\n"
     ]
    }
   ],
   "source": [
    "total_eggs = []\n",
    "for eggs in chickens_df:\n",
    "    total_eggs = sum(chickens_df[\"eggs\"])\n",
    "print(str(total_eggs) + \" eggs collected\")"
   ]
  },
  {
   "cell_type": "code",
   "execution_count": null,
   "id": "72148bed",
   "metadata": {},
   "outputs": [],
   "source": []
  }
 ],
 "metadata": {
  "kernelspec": {
   "display_name": "Python 3 (ipykernel)",
   "language": "python",
   "name": "python3"
  },
  "language_info": {
   "codemirror_mode": {
    "name": "ipython",
    "version": 3
   },
   "file_extension": ".py",
   "mimetype": "text/x-python",
   "name": "python",
   "nbconvert_exporter": "python",
   "pygments_lexer": "ipython3",
   "version": "3.10.9"
  }
 },
 "nbformat": 4,
 "nbformat_minor": 5
}
